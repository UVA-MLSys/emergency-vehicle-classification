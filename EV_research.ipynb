{
 "cells": [
  {
   "cell_type": "code",
   "execution_count": 1,
   "metadata": {},
   "outputs": [
    {
     "name": "stdout",
     "output_type": "stream",
     "text": [
      "Defaulting to user installation because normal site-packages is not writeable\n",
      "Requirement already satisfied: efficientnet in /home/xs7tng/.local/lib/python3.9/site-packages (1.1.1)\n",
      "Requirement already satisfied: scikit-image in /usr/local/lib/python3.9/site-packages (from efficientnet) (0.19.3)\n",
      "Requirement already satisfied: keras-applications<=1.0.8,>=1.0.7 in /home/xs7tng/.local/lib/python3.9/site-packages (from efficientnet) (1.0.8)\n",
      "Requirement already satisfied: numpy>=1.9.1 in /home/xs7tng/.local/lib/python3.9/site-packages (from keras-applications<=1.0.8,>=1.0.7->efficientnet) (1.21.0)\n",
      "Requirement already satisfied: h5py in /usr/local/lib/python3.9/site-packages (from keras-applications<=1.0.8,>=1.0.7->efficientnet) (3.7.0)\n",
      "Requirement already satisfied: scipy>=1.4.1 in /usr/local/lib/python3.9/site-packages (from scikit-image->efficientnet) (1.9.1)\n",
      "Requirement already satisfied: tifffile>=2019.7.26 in /usr/local/lib/python3.9/site-packages (from scikit-image->efficientnet) (2022.8.12)\n",
      "Requirement already satisfied: pillow!=7.1.0,!=7.1.1,!=8.3.0,>=6.1.0 in /usr/local/lib/python3.9/site-packages (from scikit-image->efficientnet) (9.2.0)\n",
      "Requirement already satisfied: networkx>=2.2 in /usr/local/lib/python3.9/site-packages (from scikit-image->efficientnet) (2.8.6)\n",
      "Requirement already satisfied: packaging>=20.0 in /usr/local/lib/python3.9/site-packages (from scikit-image->efficientnet) (21.3)\n",
      "Requirement already satisfied: imageio>=2.4.1 in /usr/local/lib/python3.9/site-packages (from scikit-image->efficientnet) (2.22.0)\n",
      "Requirement already satisfied: PyWavelets>=1.1.1 in /usr/local/lib/python3.9/site-packages (from scikit-image->efficientnet) (1.4.1)\n",
      "Requirement already satisfied: pyparsing!=3.0.5,>=2.0.2 in /usr/local/lib/python3.9/site-packages (from packaging>=20.0->scikit-image->efficientnet) (3.0.9)\n",
      "\n",
      "\u001b[1m[\u001b[0m\u001b[34;49mnotice\u001b[0m\u001b[1;39;49m]\u001b[0m\u001b[39;49m A new release of pip available: \u001b[0m\u001b[31;49m22.2.2\u001b[0m\u001b[39;49m -> \u001b[0m\u001b[32;49m23.2.1\u001b[0m\n",
      "\u001b[1m[\u001b[0m\u001b[34;49mnotice\u001b[0m\u001b[1;39;49m]\u001b[0m\u001b[39;49m To update, run: \u001b[0m\u001b[32;49mpip install --upgrade pip\u001b[0m\n"
     ]
    }
   ],
   "source": [
    "!pip install -U efficientnet"
   ]
  },
  {
   "cell_type": "code",
   "execution_count": 2,
   "metadata": {},
   "outputs": [
    {
     "name": "stdout",
     "output_type": "stream",
     "text": [
      "Defaulting to user installation because normal site-packages is not writeable\n",
      "Requirement already satisfied: numpy==1.21 in /home/xs7tng/.local/lib/python3.9/site-packages (1.21.0)\n",
      "\n",
      "\u001b[1m[\u001b[0m\u001b[34;49mnotice\u001b[0m\u001b[1;39;49m]\u001b[0m\u001b[39;49m A new release of pip available: \u001b[0m\u001b[31;49m22.2.2\u001b[0m\u001b[39;49m -> \u001b[0m\u001b[32;49m23.2.1\u001b[0m\n",
      "\u001b[1m[\u001b[0m\u001b[34;49mnotice\u001b[0m\u001b[1;39;49m]\u001b[0m\u001b[39;49m To update, run: \u001b[0m\u001b[32;49mpip install --upgrade pip\u001b[0m\n"
     ]
    }
   ],
   "source": [
    "!pip install numpy==1.21"
   ]
  },
  {
   "cell_type": "code",
   "execution_count": 3,
   "metadata": {},
   "outputs": [
    {
     "name": "stderr",
     "output_type": "stream",
     "text": [
      "2023-07-26 13:35:23.576395: I tensorflow/core/platform/cpu_feature_guard.cc:193] This TensorFlow binary is optimized with oneAPI Deep Neural Network Library (oneDNN) to use the following CPU instructions in performance-critical operations:  AVX2 AVX512F AVX512_VNNI FMA\n",
      "To enable them in other operations, rebuild TensorFlow with the appropriate compiler flags.\n",
      "2023-07-26 13:35:24.036738: I tensorflow/core/util/util.cc:169] oneDNN custom operations are on. You may see slightly different numerical results due to floating-point round-off errors from different computation orders. To turn them off, set the environment variable `TF_ENABLE_ONEDNN_OPTS=0`.\n",
      "2023-07-26 13:35:24.317115: E tensorflow/stream_executor/cuda/cuda_blas.cc:2981] Unable to register cuBLAS factory: Attempting to register factory for plugin cuBLAS when one has already been registered\n"
     ]
    }
   ],
   "source": [
    "from keras import applications\n",
    "from keras import callbacks\n",
    "from keras.models import Sequential"
   ]
  },
  {
   "cell_type": "code",
   "execution_count": 4,
   "metadata": {},
   "outputs": [
    {
     "data": {
      "text/plain": [
       "[PhysicalDevice(name='/physical_device:GPU:0', device_type='GPU')]"
      ]
     },
     "execution_count": 4,
     "metadata": {},
     "output_type": "execute_result"
    }
   ],
   "source": [
    "import tensorflow as tf\n",
    "tf.config.list_physical_devices('GPU')"
   ]
  },
  {
   "cell_type": "code",
   "execution_count": 5,
   "metadata": {},
   "outputs": [
    {
     "name": "stderr",
     "output_type": "stream",
     "text": [
      "2023-07-26 13:35:30.400083: I tensorflow/core/platform/cpu_feature_guard.cc:193] This TensorFlow binary is optimized with oneAPI Deep Neural Network Library (oneDNN) to use the following CPU instructions in performance-critical operations:  AVX2 AVX512F AVX512_VNNI FMA\n",
      "To enable them in other operations, rebuild TensorFlow with the appropriate compiler flags.\n",
      "2023-07-26 13:35:32.764098: I tensorflow/core/common_runtime/gpu/gpu_device.cc:1616] Created device /job:localhost/replica:0/task:0/device:GPU:0 with 30976 MB memory:  -> device: 0, name: Tesla V100-SXM2-32GB, pci bus id: 0000:af:00.0, compute capability: 7.0\n"
     ]
    }
   ],
   "source": [
    "import efficientnet.keras as efn\n",
    "\n",
    "model = efn.EfficientNetB7(weights='imagenet')"
   ]
  },
  {
   "cell_type": "code",
   "execution_count": 6,
   "metadata": {},
   "outputs": [
    {
     "name": "stdout",
     "output_type": "stream",
     "text": [
      "Defaulting to user installation because normal site-packages is not writeable\n",
      "Requirement already satisfied: tqdm in /home/xs7tng/.local/lib/python3.9/site-packages (4.65.0)\n",
      "\n",
      "\u001b[1m[\u001b[0m\u001b[34;49mnotice\u001b[0m\u001b[1;39;49m]\u001b[0m\u001b[39;49m A new release of pip available: \u001b[0m\u001b[31;49m22.2.2\u001b[0m\u001b[39;49m -> \u001b[0m\u001b[32;49m23.2.1\u001b[0m\n",
      "\u001b[1m[\u001b[0m\u001b[34;49mnotice\u001b[0m\u001b[1;39;49m]\u001b[0m\u001b[39;49m To update, run: \u001b[0m\u001b[32;49mpip install --upgrade pip\u001b[0m\n"
     ]
    }
   ],
   "source": [
    "!pip install tqdm\n"
   ]
  },
  {
   "cell_type": "code",
   "execution_count": 7,
   "metadata": {},
   "outputs": [],
   "source": [
    "import cv2\n",
    "import pandas as pd\n",
    "import numpy as np\n",
    "import matplotlib.pyplot as plt\n",
    "import json\n",
    "import os\n",
    "from tqdm import tqdm, tqdm_notebook\n",
    "from keras.models import Model\n",
    "from keras.layers import Dropout, Flatten, Dense\n",
    "from keras import optimizers"
   ]
  },
  {
   "cell_type": "code",
   "execution_count": 8,
   "metadata": {},
   "outputs": [
    {
     "data": {
      "text/html": [
       "<div>\n",
       "<style scoped>\n",
       "    .dataframe tbody tr th:only-of-type {\n",
       "        vertical-align: middle;\n",
       "    }\n",
       "\n",
       "    .dataframe tbody tr th {\n",
       "        vertical-align: top;\n",
       "    }\n",
       "\n",
       "    .dataframe thead th {\n",
       "        text-align: right;\n",
       "    }\n",
       "</style>\n",
       "<table border=\"1\" class=\"dataframe\">\n",
       "  <thead>\n",
       "    <tr style=\"text-align: right;\">\n",
       "      <th></th>\n",
       "      <th>image_names</th>\n",
       "      <th>emergency_or_not</th>\n",
       "    </tr>\n",
       "  </thead>\n",
       "  <tbody>\n",
       "    <tr>\n",
       "      <th>0</th>\n",
       "      <td>1503.jpg</td>\n",
       "      <td>0</td>\n",
       "    </tr>\n",
       "    <tr>\n",
       "      <th>1</th>\n",
       "      <td>1420.jpg</td>\n",
       "      <td>0</td>\n",
       "    </tr>\n",
       "    <tr>\n",
       "      <th>2</th>\n",
       "      <td>1764.jpg</td>\n",
       "      <td>0</td>\n",
       "    </tr>\n",
       "    <tr>\n",
       "      <th>3</th>\n",
       "      <td>1356.jpg</td>\n",
       "      <td>0</td>\n",
       "    </tr>\n",
       "    <tr>\n",
       "      <th>4</th>\n",
       "      <td>1117.jpg</td>\n",
       "      <td>0</td>\n",
       "    </tr>\n",
       "  </tbody>\n",
       "</table>\n",
       "</div>"
      ],
      "text/plain": [
       "  image_names  emergency_or_not\n",
       "0    1503.jpg                 0\n",
       "1    1420.jpg                 0\n",
       "2    1764.jpg                 0\n",
       "3    1356.jpg                 0\n",
       "4    1117.jpg                 0"
      ]
     },
     "execution_count": 8,
     "metadata": {},
     "output_type": "execute_result"
    }
   ],
   "source": [
    "train_dir = \"Emergency_Vehicles/train\"\n",
    "test_dir = \"Emergency_Vehicles/test\"\n",
    "train_df = pd.read_csv('Emergency_Vehicles/train.csv')\n",
    "train_df.head()"
   ]
  },
  {
   "cell_type": "code",
   "execution_count": 13,
   "metadata": {},
   "outputs": [
    {
     "name": "stdout",
     "output_type": "stream",
     "text": [
      "Found 1150 validated image filenames belonging to 2 classes.\n",
      "Found 495 validated image filenames belonging to 2 classes.\n"
     ]
    }
   ],
   "source": [
    "from keras.preprocessing.image import ImageDataGenerator\n",
    "\n",
    "from keras.layers import Dense\n",
    "from keras.optimizers import Adam\n",
    "from keras.layers import Dropout\n",
    "\n",
    "from keras.callbacks import EarlyStopping\n",
    "\n",
    "eff_net = efn.EfficientNetB7(weights='imagenet', include_top=False, input_shape=(64, 64, 3))\n",
    "    \n",
    "#datagen=ImageDataGenerator(rescale=1./255)\n",
    "datagen = ImageDataGenerator(\n",
    "    rescale=1./255,\n",
    "    rotation_range=20,      # range (0-180) within which to randomly rotate pictures\n",
    "    width_shift_range=0.2,  # fraction of total width to randomly translate pictures\n",
    "    height_shift_range=0.2, # fraction of total height to randomly translate pictures\n",
    "    shear_range=0.2,        # randomly applying shear transformations\n",
    "    zoom_range=0.2,         # randomly zooming inside pictures\n",
    "    horizontal_flip=True,   # randomly flipping half of the images horizontally\n",
    "    fill_mode='nearest'     # strategy used for filling in newly created pixels\n",
    ")\n",
    "\n",
    "batch_size=150\n",
    "\n",
    "train_df.emergency_or_not=train_df.emergency_or_not.astype(str)\n",
    "\n",
    "train_generator=datagen.flow_from_dataframe(dataframe=train_df[:1150],directory=train_dir,x_col='image_names',\n",
    "                                        y_col='emergency_or_not',class_mode='binary',batch_size=batch_size,\n",
    "                                        target_size=(64,64))\n",
    "\n",
    "\n",
    "validation_generator=datagen.flow_from_dataframe(dataframe=train_df[1151:],directory=train_dir,x_col='image_names',\n",
    "                                                y_col='emergency_or_not',class_mode='binary',batch_size=50,\n",
    "                                                target_size=(64,64))\n",
    "\n",
    "efficient_net = efn.EfficientNetB7(\n",
    "weights='imagenet',\n",
    "input_shape=(64,64,3),\n",
    "include_top=False,\n",
    "pooling='max'\n",
    ")\n"
   ]
  },
  {
   "cell_type": "code",
   "execution_count": 14,
   "metadata": {},
   "outputs": [],
   "source": [
    "import time\n",
    "def upload_model():\n",
    "    \n",
    "    model = Sequential()\n",
    "    model.add(efficient_net)\n",
    "    model.add(Dense(units = 120, activation='relu'))\n",
    "    model.add(Dropout(0.5))  # randomly sets 50% of input units to 0 at each update during training time\n",
    "    model.add(Dense(units = 120, activation = 'relu'))\n",
    "    model.add(Dropout(0.5))  # randomly sets 50% of input units to 0 at each update during training time\n",
    "    model.add(Dense(units = 1, activation='sigmoid'))\n",
    "    model.summary()\n",
    "    return model"
   ]
  },
  {
   "cell_type": "code",
   "execution_count": 15,
   "metadata": {},
   "outputs": [
    {
     "name": "stdout",
     "output_type": "stream",
     "text": [
      "Model: \"sequential_1\"\n",
      "_________________________________________________________________\n",
      " Layer (type)                Output Shape              Param #   \n",
      "=================================================================\n",
      " efficientnet-b7 (Functional  (None, 2560)             64097680  \n",
      " )                                                               \n",
      "                                                                 \n",
      " dense_3 (Dense)             (None, 120)               307320    \n",
      "                                                                 \n",
      " dropout_2 (Dropout)         (None, 120)               0         \n",
      "                                                                 \n",
      " dense_4 (Dense)             (None, 120)               14520     \n",
      "                                                                 \n",
      " dropout_3 (Dropout)         (None, 120)               0         \n",
      "                                                                 \n",
      " dense_5 (Dense)             (None, 1)                 121       \n",
      "                                                                 \n",
      "=================================================================\n",
      "Total params: 64,419,641\n",
      "Trainable params: 64,108,921\n",
      "Non-trainable params: 310,720\n",
      "_________________________________________________________________\n",
      "Epoch 1/50\n"
     ]
    },
    {
     "name": "stderr",
     "output_type": "stream",
     "text": [
      "2023-07-26 13:38:21.271759: I tensorflow/stream_executor/cuda/cuda_dnn.cc:384] Loaded cuDNN version 8101\n"
     ]
    },
    {
     "name": "stdout",
     "output_type": "stream",
     "text": [
      "8/8 [==============================] - 54s 2s/step - loss: 0.7981 - accuracy: 0.4939 - val_loss: 0.7536 - val_accuracy: 0.3886\n",
      "Epoch 2/50\n",
      "8/8 [==============================] - 4s 495ms/step - loss: 0.7839 - accuracy: 0.5313 - val_loss: 0.7505 - val_accuracy: 0.4000\n",
      "Epoch 3/50\n",
      "8/8 [==============================] - 4s 489ms/step - loss: 0.7456 - accuracy: 0.5287 - val_loss: 0.7401 - val_accuracy: 0.4057\n",
      "Epoch 4/50\n",
      "8/8 [==============================] - 4s 483ms/step - loss: 0.7245 - accuracy: 0.5435 - val_loss: 0.7233 - val_accuracy: 0.4114\n",
      "Epoch 5/50\n",
      "8/8 [==============================] - 4s 522ms/step - loss: 0.7097 - accuracy: 0.5487 - val_loss: 0.7142 - val_accuracy: 0.4114\n",
      "Epoch 6/50\n",
      "8/8 [==============================] - 4s 478ms/step - loss: 0.7008 - accuracy: 0.5661 - val_loss: 0.6997 - val_accuracy: 0.4571\n",
      "Epoch 7/50\n",
      "8/8 [==============================] - 4s 493ms/step - loss: 0.6982 - accuracy: 0.5565 - val_loss: 0.6959 - val_accuracy: 0.4886\n",
      "Epoch 8/50\n",
      "8/8 [==============================] - 4s 491ms/step - loss: 0.7115 - accuracy: 0.5400 - val_loss: 0.6839 - val_accuracy: 0.5429\n",
      "Epoch 9/50\n",
      "8/8 [==============================] - 4s 479ms/step - loss: 0.6797 - accuracy: 0.5696 - val_loss: 0.6703 - val_accuracy: 0.6000\n",
      "Epoch 10/50\n",
      "8/8 [==============================] - 4s 493ms/step - loss: 0.6991 - accuracy: 0.5504 - val_loss: 0.6599 - val_accuracy: 0.6286\n",
      "Epoch 11/50\n",
      "8/8 [==============================] - 4s 500ms/step - loss: 0.6690 - accuracy: 0.6000 - val_loss: 0.6434 - val_accuracy: 0.6657\n",
      "Epoch 12/50\n",
      "8/8 [==============================] - 4s 474ms/step - loss: 0.6623 - accuracy: 0.6009 - val_loss: 0.6421 - val_accuracy: 0.7057\n",
      "Epoch 13/50\n",
      "8/8 [==============================] - 4s 512ms/step - loss: 0.6730 - accuracy: 0.6017 - val_loss: 0.6429 - val_accuracy: 0.6571\n",
      "Epoch 14/50\n",
      "8/8 [==============================] - 4s 485ms/step - loss: 0.6540 - accuracy: 0.6096 - val_loss: 0.6253 - val_accuracy: 0.7229\n",
      "Epoch 15/50\n",
      "8/8 [==============================] - 4s 481ms/step - loss: 0.6426 - accuracy: 0.6217 - val_loss: 0.6104 - val_accuracy: 0.7171\n",
      "Epoch 16/50\n",
      "8/8 [==============================] - 4s 487ms/step - loss: 0.6213 - accuracy: 0.6409 - val_loss: 0.6080 - val_accuracy: 0.7029\n",
      "Epoch 17/50\n",
      "8/8 [==============================] - 4s 482ms/step - loss: 0.6262 - accuracy: 0.6409 - val_loss: 0.6036 - val_accuracy: 0.7000\n",
      "Epoch 18/50\n",
      "8/8 [==============================] - 4s 472ms/step - loss: 0.6300 - accuracy: 0.6339 - val_loss: 0.5838 - val_accuracy: 0.7086\n",
      "Epoch 19/50\n",
      "8/8 [==============================] - 4s 471ms/step - loss: 0.6022 - accuracy: 0.6809 - val_loss: 0.5817 - val_accuracy: 0.7029\n",
      "Epoch 20/50\n",
      "8/8 [==============================] - 4s 509ms/step - loss: 0.6013 - accuracy: 0.6635 - val_loss: 0.5596 - val_accuracy: 0.7371\n",
      "Epoch 21/50\n",
      "8/8 [==============================] - 4s 489ms/step - loss: 0.5961 - accuracy: 0.6861 - val_loss: 0.5593 - val_accuracy: 0.6943\n",
      "Epoch 22/50\n",
      "8/8 [==============================] - 4s 479ms/step - loss: 0.5913 - accuracy: 0.6783 - val_loss: 0.5314 - val_accuracy: 0.7543\n",
      "Epoch 23/50\n",
      "8/8 [==============================] - 4s 488ms/step - loss: 0.5775 - accuracy: 0.6861 - val_loss: 0.5081 - val_accuracy: 0.7600\n",
      "Epoch 24/50\n",
      "8/8 [==============================] - 4s 488ms/step - loss: 0.5733 - accuracy: 0.6991 - val_loss: 0.5162 - val_accuracy: 0.7771\n",
      "Epoch 25/50\n",
      "8/8 [==============================] - 4s 477ms/step - loss: 0.5690 - accuracy: 0.6896 - val_loss: 0.5021 - val_accuracy: 0.7486\n",
      "Epoch 26/50\n",
      "8/8 [==============================] - 4s 489ms/step - loss: 0.5395 - accuracy: 0.7348 - val_loss: 0.4884 - val_accuracy: 0.7600\n",
      "Epoch 27/50\n",
      "8/8 [==============================] - 4s 495ms/step - loss: 0.5339 - accuracy: 0.7348 - val_loss: 0.4622 - val_accuracy: 0.7743\n",
      "Epoch 28/50\n",
      "8/8 [==============================] - 4s 468ms/step - loss: 0.5127 - accuracy: 0.7426 - val_loss: 0.4910 - val_accuracy: 0.7829\n",
      "Epoch 29/50\n",
      "8/8 [==============================] - 4s 487ms/step - loss: 0.5105 - accuracy: 0.7504 - val_loss: 0.4667 - val_accuracy: 0.7457\n",
      "Epoch 30/50\n",
      "8/8 [==============================] - 4s 472ms/step - loss: 0.5056 - accuracy: 0.7487 - val_loss: 0.4282 - val_accuracy: 0.8143\n",
      "Epoch 31/50\n",
      "8/8 [==============================] - 4s 489ms/step - loss: 0.4921 - accuracy: 0.7539 - val_loss: 0.4226 - val_accuracy: 0.8143\n",
      "Epoch 32/50\n",
      "8/8 [==============================] - 4s 470ms/step - loss: 0.4946 - accuracy: 0.7609 - val_loss: 0.4016 - val_accuracy: 0.8000\n",
      "Epoch 33/50\n",
      "8/8 [==============================] - 4s 478ms/step - loss: 0.4747 - accuracy: 0.7809 - val_loss: 0.3749 - val_accuracy: 0.8571\n",
      "Epoch 34/50\n",
      "8/8 [==============================] - 4s 477ms/step - loss: 0.4639 - accuracy: 0.7730 - val_loss: 0.3974 - val_accuracy: 0.8114\n",
      "Epoch 35/50\n",
      "8/8 [==============================] - 4s 471ms/step - loss: 0.4644 - accuracy: 0.7817 - val_loss: 0.3713 - val_accuracy: 0.8400\n",
      "Epoch 36/50\n",
      "8/8 [==============================] - 4s 461ms/step - loss: 0.4775 - accuracy: 0.7774 - val_loss: 0.3970 - val_accuracy: 0.8086\n",
      "Epoch 37/50\n",
      "8/8 [==============================] - 4s 474ms/step - loss: 0.4479 - accuracy: 0.7887 - val_loss: 0.3860 - val_accuracy: 0.8143\n",
      "Epoch 38/50\n",
      "8/8 [==============================] - 4s 463ms/step - loss: 0.4109 - accuracy: 0.8070 - val_loss: 0.4057 - val_accuracy: 0.8257\n",
      "Epoch 39/50\n",
      "8/8 [==============================] - 4s 462ms/step - loss: 0.4088 - accuracy: 0.8017 - val_loss: 0.3407 - val_accuracy: 0.8629\n",
      "Epoch 40/50\n",
      "8/8 [==============================] - 4s 496ms/step - loss: 0.4368 - accuracy: 0.8078 - val_loss: 0.3630 - val_accuracy: 0.8400\n",
      "Epoch 41/50\n",
      "8/8 [==============================] - 4s 467ms/step - loss: 0.4004 - accuracy: 0.8304 - val_loss: 0.3892 - val_accuracy: 0.8257\n",
      "Epoch 42/50\n",
      "8/8 [==============================] - 4s 467ms/step - loss: 0.3912 - accuracy: 0.8270 - val_loss: 0.3523 - val_accuracy: 0.8486\n",
      "Epoch 43/50\n",
      "8/8 [==============================] - 4s 479ms/step - loss: 0.3554 - accuracy: 0.8365 - val_loss: 0.3585 - val_accuracy: 0.8400\n",
      "Epoch 44/50\n",
      "8/8 [==============================] - 4s 458ms/step - loss: 0.3810 - accuracy: 0.8348 - val_loss: 0.3592 - val_accuracy: 0.8514\n",
      "Training time: 231.17040157318115 seconds\n"
     ]
    }
   ],
   "source": [
    "model = upload_model()\n",
    "\n",
    "model.compile(optimizer=Adam(learning_rate=0.0001), loss='binary_crossentropy', metrics=['accuracy'])\n",
    "\n",
    "start = time.time()\n",
    "    \n",
    "\n",
    "early_stop = EarlyStopping(monitor='val_loss', patience=5)  # stop training after the validation loss stops improving for 5 epochs\n",
    "history = model.fit(\n",
    "    train_generator,\n",
    "    epochs=50,\n",
    "    steps_per_epoch=8,\n",
    "    validation_data=validation_generator,\n",
    "    validation_steps=7,\n",
    "    callbacks=[early_stop]  # early stopping\n",
    ")\n",
    "\n",
    "end = time.time()\n",
    "\n",
    "print(f\"Training time: {end - start} seconds\")\n",
    "\n",
    "model.save(\"custom_model.keras\")\n"
   ]
  },
  {
   "cell_type": "code",
   "execution_count": null,
   "metadata": {},
   "outputs": [],
   "source": []
  },
  {
   "cell_type": "code",
   "execution_count": 16,
   "metadata": {},
   "outputs": [],
   "source": [
    "from tensorflow.keras.preprocessing import image\n",
    "\n",
    "def classify_image(image_path):\n",
    "        img = image.load_img(image_path, target_size=(64, 64))\n",
    "        \n",
    "        x = image.img_to_array(img)\n",
    "        x = np.expand_dims(x, axis=0)\n",
    "\n",
    "        x = x / 255.0\n",
    "\n",
    "        pred = model.predict(x)\n",
    "\n",
    "        return 1 if pred>0.75 else 0\n"
   ]
  },
  {
   "cell_type": "code",
   "execution_count": 17,
   "metadata": {},
   "outputs": [
    {
     "name": "stdout",
     "output_type": "stream",
     "text": [
      "1/1 [==============================] - 5s 5s/step\n",
      "1\n",
      "1/1 [==============================] - 0s 53ms/step\n",
      "0\n"
     ]
    }
   ],
   "source": [
    "print(classify_image(\"testCar1.png\"))\n",
    "print(classify_image(\"testCar2.png\"))"
   ]
  },
  {
   "cell_type": "code",
   "execution_count": null,
   "metadata": {},
   "outputs": [],
   "source": []
  }
 ],
 "metadata": {
  "kernelspec": {
   "display_name": "Tensorflow 2.10.0/Keras Py3.9",
   "language": "python",
   "name": "tensorflow-2.10.0"
  },
  "language_info": {
   "codemirror_mode": {
    "name": "ipython",
    "version": 3
   },
   "file_extension": ".py",
   "mimetype": "text/x-python",
   "name": "python",
   "nbconvert_exporter": "python",
   "pygments_lexer": "ipython3",
   "version": "3.9.14"
  }
 },
 "nbformat": 4,
 "nbformat_minor": 4
}
